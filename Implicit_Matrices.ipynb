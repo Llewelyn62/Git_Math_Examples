{
 "metadata": {
  "name": "",
  "signature": "sha256:f02c769ceb8de2fc75b658e732301266944bb89401b1205f8a70ef8dd508780d"
 },
 "nbformat": 3,
 "nbformat_minor": 0,
 "worksheets": [
  {
   "cells": [
    {
     "cell_type": "code",
     "collapsed": false,
     "input": [
      "import numpy\n",
      "from sympy import init_session\n",
      "init_session()\n",
      "sigma = Symbol('sigma')"
     ],
     "language": "python",
     "metadata": {},
     "outputs": [
      {
       "output_type": "stream",
       "stream": "stdout",
       "text": [
        "IPython console for SymPy 0.7.6 (Python 2.7.6-64-bit) (ground types: python)\n",
        "\n",
        "These commands were executed:\n",
        ">>> from __future__ import division\n",
        ">>> from sympy import *\n",
        ">>> x, y, z, t = symbols('x y z t')\n",
        ">>> k, m, n = symbols('k m n', integer=True)\n",
        ">>> f, g, h = symbols('f g h', cls=Function)\n",
        ">>> init_printing()\n",
        "\n",
        "Documentation can be found at http://www.sympy.org\n"
       ]
      }
     ],
     "prompt_number": 51
    },
    {
     "cell_type": "markdown",
     "metadata": {},
     "source": [
      "In defining an implicit scheme, the proposition is that the subsequent time step is nothing more than a movement of the matrix row, with the proviso that the boundary conditions are sufficiently accounted for at the A[0,0] and A[-1,-1] positions. "
     ]
    },
    {
     "cell_type": "code",
     "collapsed": false,
     "input": [
      "#The basic setup.\n",
      "K = eye(8)*(2 + 1/sigma)\n",
      "for i in range(7):\n",
      "    K[i,i+1] = -1\n",
      "    K[i+1,i] = -1\n",
      "K[7,7] = (1+1/sigma)\n",
      "K = K[1:,1:]\n",
      "X = Matrix(symbols('T__n+1_:7'))\n",
      "X[0] = 0#symbols('Diric')\n",
      "K, X"
     ],
     "language": "python",
     "metadata": {},
     "outputs": [
      {
       "output_type": "stream",
       "stream": "stderr",
       "text": [
        "/Applications/Canopy.app/appdata/canopy-1.5.1.2730.macosx-x86_64/Canopy.app/Contents/lib/python2.7/site-packages/IPython/core/formatters.py:239: FormatterWarning: Exception in image/png formatter: \n",
        "\\left ( \\left[\\begin{smallmatrix}2 + 1 / \\sigma & -1 & 0 & 0 & 0 & 0 & 0\\\\-1 & 2 + 1 / \\sigma & -1 & 0 & 0 & 0 & 0\\\\0 & -1 & 2 + 1 / \\sigma & -1 & 0 & 0 & 0\\\\0 & 0 & -1 & 2 + 1 / \\sigma & -1 & 0 & 0\\\\0 & 0 & 0 & -1 & 2 + 1 / \\sigma & -1 & 0\\\\0 & 0 & 0 & 0 & -1 & 2 + 1 / \\sigma & -1\\\\0 & 0 & 0 & 0 & 0 & -1 & 1 + 1 / \\sigma\\end{smallmatrix}\\right], \\quad \\left[\\begin{smallmatrix}0\\\\T^{n+1}_{1}\\\\T^{n+1}_{2}\\\\T^{n+1}_{3}\\\\T^{n+1}_{4}\\\\T^{n+1}_{5}\\\\T^{n+1}_{6}\\end{smallmatrix}\\right]\\right )\n",
        "              ^\n",
        "Expected \"\\right\" (at char 14), (line:1, col:15)\n",
        "  FormatterWarning,\n"
       ]
      },
      {
       "latex": [
        "$$\\left ( \\left[\\begin{matrix}2 + \\frac{1}{\\sigma} & -1 & 0 & 0 & 0 & 0 & 0\\\\-1 & 2 + \\frac{1}{\\sigma} & -1 & 0 & 0 & 0 & 0\\\\0 & -1 & 2 + \\frac{1}{\\sigma} & -1 & 0 & 0 & 0\\\\0 & 0 & -1 & 2 + \\frac{1}{\\sigma} & -1 & 0 & 0\\\\0 & 0 & 0 & -1 & 2 + \\frac{1}{\\sigma} & -1 & 0\\\\0 & 0 & 0 & 0 & -1 & 2 + \\frac{1}{\\sigma} & -1\\\\0 & 0 & 0 & 0 & 0 & -1 & 1 + \\frac{1}{\\sigma}\\end{matrix}\\right], \\quad \\left[\\begin{matrix}0\\\\T^{n+1}_{1}\\\\T^{n+1}_{2}\\\\T^{n+1}_{3}\\\\T^{n+1}_{4}\\\\T^{n+1}_{5}\\\\T^{n+1}_{6}\\end{matrix}\\right]\\right )$$"
       ],
       "metadata": {},
       "output_type": "pyout",
       "prompt_number": 61,
       "text": [
        "\u239b\u23a1    1                                          \u23a4         \u239e\n",
        "\u239c\u23a22 + \u2500   -1      0      0      0      0      0  \u23a5, \u23a1  0  \u23a4\u239f\n",
        "\u239c\u23a2    \u03c3                                          \u23a5  \u23a2     \u23a5\u239f\n",
        "\u239c\u23a2                                               \u23a5  \u23a2T\u207f\u207a\u00b9\u2081\u23a5\u239f\n",
        "\u239c\u23a2           1                                   \u23a5  \u23a2     \u23a5\u239f\n",
        "\u239c\u23a2 -1    2 + \u2500   -1      0      0      0      0  \u23a5  \u23a2T\u207f\u207a\u00b9\u2082\u23a5\u239f\n",
        "\u239c\u23a2           \u03c3                                   \u23a5  \u23a2     \u23a5\u239f\n",
        "\u239c\u23a2                                               \u23a5  \u23a2T\u207f\u207a\u00b9\u2083\u23a5\u239f\n",
        "\u239c\u23a2                  1                            \u23a5  \u23a2     \u23a5\u239f\n",
        "\u239c\u23a2  0     -1    2 + \u2500   -1      0      0      0  \u23a5  \u23a2T\u207f\u207a\u00b9\u2084\u23a5\u239f\n",
        "\u239c\u23a2                  \u03c3                            \u23a5  \u23a2     \u23a5\u239f\n",
        "\u239c\u23a2                                               \u23a5  \u23a2T\u207f\u207a\u00b9\u2085\u23a5\u239f\n",
        "\u239c\u23a2                         1                     \u23a5  \u23a2     \u23a5\u239f\n",
        "\u239c\u23a2  0      0     -1    2 + \u2500   -1      0      0  \u23a5  \u23a3T\u207f\u207a\u00b9\u2086\u23a6\u239f\n",
        "\u239c\u23a2                         \u03c3                     \u23a5         \u239f\n",
        "\u239c\u23a2                                               \u23a5         \u239f\n",
        "\u239c\u23a2                                1              \u23a5         \u239f\n",
        "\u239c\u23a2  0      0      0     -1    2 + \u2500   -1      0  \u23a5         \u239f\n",
        "\u239c\u23a2                                \u03c3              \u23a5         \u239f\n",
        "\u239c\u23a2                                               \u23a5         \u239f\n",
        "\u239c\u23a2                                       1       \u23a5         \u239f\n",
        "\u239c\u23a2  0      0      0      0     -1    2 + \u2500   -1  \u23a5         \u239f\n",
        "\u239c\u23a2                                       \u03c3       \u23a5         \u239f\n",
        "\u239c\u23a2                                               \u23a5         \u239f\n",
        "\u239c\u23a2                                              1\u23a5         \u239f\n",
        "\u239c\u23a2  0      0      0      0      0     -1    1 + \u2500\u23a5         \u239f\n",
        "\u239d\u23a3                                              \u03c3\u23a6         \u23a0"
       ]
      }
     ],
     "prompt_number": 61
    },
    {
     "cell_type": "code",
     "collapsed": false,
     "input": [
      "K.dot(X)"
     ],
     "language": "python",
     "metadata": {},
     "outputs": [
      {
       "latex": [
        "$$\\left [ - T^{n+1}_{1}, \\quad T^{n+1}_{1} \\left(2 + \\frac{1}{\\sigma}\\right) - T^{n+1}_{2}, \\quad - T^{n+1}_{1} + T^{n+1}_{2} \\left(2 + \\frac{1}{\\sigma}\\right) - T^{n+1}_{3}, \\quad - T^{n+1}_{2} + T^{n+1}_{3} \\left(2 + \\frac{1}{\\sigma}\\right) - T^{n+1}_{4}, \\quad - T^{n+1}_{3} + T^{n+1}_{4} \\left(2 + \\frac{1}{\\sigma}\\right) - T^{n+1}_{5}, \\quad - T^{n+1}_{4} + T^{n+1}_{5} \\left(2 + \\frac{1}{\\sigma}\\right) - T^{n+1}_{6}, \\quad - T^{n+1}_{5} + T^{n+1}_{6} \\left(1 + \\frac{1}{\\sigma}\\right)\\right ]$$"
       ],
       "metadata": {},
       "output_type": "pyout",
       "png": "[encoded data removed]",
       "prompt_number": 62,
       "text": [
        "\u23a1              \u239b    1\u239e                         \u239b    1\u239e                        \n",
        "\u23a2-T\u207f\u207a\u00b9\u2081, T\u207f\u207a\u00b9\u2081\u22c5\u239c2 + \u2500\u239f - T\u207f\u207a\u00b9\u2082, -T\u207f\u207a\u00b9\u2081 + T\u207f\u207a\u00b9\u2082\u22c5\u239c2 + \u2500\u239f - T\u207f\u207a\u00b9\u2083, -T\u207f\u207a\u00b9\u2082 + T\u207f\u207a\u00b9\u2083\n",
        "\u23a3              \u239d    \u03c3\u23a0                         \u239d    \u03c3\u23a0                        \n",
        "\n",
        " \u239b    1\u239e                         \u239b    1\u239e                         \u239b    1\u239e      \n",
        "\u22c5\u239c2 + \u2500\u239f - T\u207f\u207a\u00b9\u2084, -T\u207f\u207a\u00b9\u2083 + T\u207f\u207a\u00b9\u2084\u22c5\u239c2 + \u2500\u239f - T\u207f\u207a\u00b9\u2085, -T\u207f\u207a\u00b9\u2084 + T\u207f\u207a\u00b9\u2085\u22c5\u239c2 + \u2500\u239f - T\u207f\u207a\n",
        " \u239d    \u03c3\u23a0                         \u239d    \u03c3\u23a0                         \u239d    \u03c3\u23a0      \n",
        "\n",
        "                   \u239b    1\u239e\u23a4\n",
        "\u00b9\u2086, -T\u207f\u207a\u00b9\u2085 + T\u207f\u207a\u00b9\u2086\u22c5\u239c1 + \u2500\u239f\u23a5\n",
        "                   \u239d    \u03c3\u23a0\u23a6"
       ]
      }
     ],
     "prompt_number": 62
    },
    {
     "cell_type": "markdown",
     "metadata": {},
     "source": [
      "This takes the matrix part that multiplies out the implicit equations. Proof of concept.  "
     ]
    },
    {
     "cell_type": "markdown",
     "metadata": {},
     "source": [
      "The solutions are b and bc. "
     ]
    },
    {
     "cell_type": "code",
     "collapsed": false,
     "input": [
      "b = Matrix(symbols('T__n_1:8'))\n",
      "bc = Matrix(zeros_like(X))\n",
      "bc[0] += symbols('T__n+1_0')\n",
      "bc[6] += symbols('xq')*symbols('Delta')\n",
      "b, bc"
     ],
     "language": "python",
     "metadata": {},
     "outputs": [
      {
       "output_type": "stream",
       "stream": "stderr",
       "text": [
        "/Applications/Canopy.app/appdata/canopy-1.5.1.2730.macosx-x86_64/Canopy.app/Contents/lib/python2.7/site-packages/IPython/core/formatters.py:239: FormatterWarning: Exception in image/png formatter: \n",
        "\\left ( \\left[\\begin{smallmatrix}T^{n}_{1}\\\\T^{n}_{2}\\\\T^{n}_{3}\\\\T^{n}_{4}\\\\T^{n}_{5}\\\\T^{n}_{6}\\\\T^{n}_{7}\\end{smallmatrix}\\right], \\quad \\left[\\begin{smallmatrix}T^{n+1}_{0}\\\\0\\\\0\\\\0\\\\0\\\\0\\\\\\Delta xq\\end{smallmatrix}\\right]\\right )\n",
        "              ^\n",
        "Expected \"\\right\" (at char 14), (line:1, col:15)\n",
        "  FormatterWarning,\n"
       ]
      },
      {
       "latex": [
        "$$\\left ( \\left[\\begin{matrix}T^{n}_{1}\\\\T^{n}_{2}\\\\T^{n}_{3}\\\\T^{n}_{4}\\\\T^{n}_{5}\\\\T^{n}_{6}\\\\T^{n}_{7}\\end{matrix}\\right], \\quad \\left[\\begin{matrix}T^{n+1}_{0}\\\\0\\\\0\\\\0\\\\0\\\\0\\\\\\Delta xq\\end{matrix}\\right]\\right )$$"
       ],
       "metadata": {},
       "output_type": "pyout",
       "prompt_number": 71,
       "text": [
        "\u239b\u23a1T\u207f\u2081\u23a4, \u23a1T\u207f\u207a\u00b9\u2080\u23a4\u239e\n",
        "\u239c\u23a2   \u23a5  \u23a2     \u23a5\u239f\n",
        "\u239c\u23a2T\u207f\u2082\u23a5  \u23a2  0  \u23a5\u239f\n",
        "\u239c\u23a2   \u23a5  \u23a2     \u23a5\u239f\n",
        "\u239c\u23a2T\u207f\u2083\u23a5  \u23a2  0  \u23a5\u239f\n",
        "\u239c\u23a2   \u23a5  \u23a2     \u23a5\u239f\n",
        "\u239c\u23a2T\u207f\u2084\u23a5  \u23a2  0  \u23a5\u239f\n",
        "\u239c\u23a2   \u23a5  \u23a2     \u23a5\u239f\n",
        "\u239c\u23a2T\u207f\u2085\u23a5  \u23a2  0  \u23a5\u239f\n",
        "\u239c\u23a2   \u23a5  \u23a2     \u23a5\u239f\n",
        "\u239c\u23a2T\u207f\u2086\u23a5  \u23a2  0  \u23a5\u239f\n",
        "\u239c\u23a2   \u23a5  \u23a2     \u23a5\u239f\n",
        "\u239d\u23a3T\u207f\u2087\u23a6  \u23a3\u0394\u22c5xq \u23a6\u23a0"
       ]
      }
     ],
     "prompt_number": 71
    },
    {
     "cell_type": "code",
     "collapsed": false,
     "input": [
      "b+bc"
     ],
     "language": "python",
     "metadata": {},
     "outputs": [
      {
       "output_type": "stream",
       "stream": "stderr",
       "text": [
        "/Applications/Canopy.app/appdata/canopy-1.5.1.2730.macosx-x86_64/Canopy.app/Contents/lib/python2.7/site-packages/IPython/core/formatters.py:239: FormatterWarning: Exception in image/png formatter: \n",
        "\\left[\\begin{smallmatrix}T^{n+1}_{0} + T^{n}_{1}\\\\T^{n}_{2}\\\\T^{n}_{3}\\\\T^{n}_{4}\\\\T^{n}_{5}\\\\T^{n}_{6}\\\\\\Delta xq + T^{n}_{7}\\end{smallmatrix}\\right]\n",
        "      ^\n",
        "Expected \"\\right\" (at char 6), (line:1, col:7)\n",
        "  FormatterWarning,\n"
       ]
      },
      {
       "latex": [
        "$$\\left[\\begin{matrix}T^{n+1}_{0} + T^{n}_{1}\\\\T^{n}_{2}\\\\T^{n}_{3}\\\\T^{n}_{4}\\\\T^{n}_{5}\\\\T^{n}_{6}\\\\\\Delta xq + T^{n}_{7}\\end{matrix}\\right]$$"
       ],
       "metadata": {},
       "output_type": "pyout",
       "prompt_number": 72,
       "text": [
        "\u23a1T\u207f\u207a\u00b9\u2080 + T\u207f\u2081\u23a4\n",
        "\u23a2           \u23a5\n",
        "\u23a2    T\u207f\u2082    \u23a5\n",
        "\u23a2           \u23a5\n",
        "\u23a2    T\u207f\u2083    \u23a5\n",
        "\u23a2           \u23a5\n",
        "\u23a2    T\u207f\u2084    \u23a5\n",
        "\u23a2           \u23a5\n",
        "\u23a2    T\u207f\u2085    \u23a5\n",
        "\u23a2           \u23a5\n",
        "\u23a2    T\u207f\u2086    \u23a5\n",
        "\u23a2           \u23a5\n",
        "\u23a3\u0394\u22c5xq + T\u207f\u2087 \u23a6"
       ]
      }
     ],
     "prompt_number": 72
    },
    {
     "cell_type": "code",
     "collapsed": false,
     "input": [
      "#This function creates a way to substitute symbols for an array. \n",
      "b_new = asmatrix(b.subs(dict(zip(symbols('T__n_1:8'), [0,2,2,2,2,3,3])))).astype(float64)\n",
      "K = asmatrix(K.subs(sigma,5)).astype(float64)\n",
      "b_new, type(b_new), type(K)"
     ],
     "language": "python",
     "metadata": {},
     "outputs": [
      {
       "metadata": {},
       "output_type": "pyout",
       "prompt_number": 73,
       "text": [
        "(matrix([[ 0.],\n",
        "         [ 2.],\n",
        "         [ 2.],\n",
        "         [ 2.],\n",
        "         [ 2.],\n",
        "         [ 3.],\n",
        "         [ 3.]]),\n",
        " numpy.matrixlib.defmatrix.matrix,\n",
        " numpy.matrixlib.defmatrix.matrix)"
       ]
      }
     ],
     "prompt_number": 73
    },
    {
     "cell_type": "code",
     "collapsed": false,
     "input": [
      "#%%timeit\n",
      "linalg.solve(K,b_new)"
     ],
     "language": "python",
     "metadata": {},
     "outputs": [
      {
       "output_type": "stream",
       "stream": "stdout",
       "text": [
        "10000 loops, best of 3: 42.5 \u00b5s per loop\n"
       ]
      }
     ],
     "prompt_number": 78
    },
    {
     "cell_type": "code",
     "collapsed": false,
     "input": [
      "# #Some other cool ways to make the matrix  K\n",
      "# from scipy import *\n",
      "# #Note the sparse matrix is changed to a dense one.\n",
      "# K = sparse.diags([-1, 2, -1], [-1, 0, 1], shape=(8, 8)).todense()\n",
      "# K = linalg.toeplitz([2,-1,0,0],[2,-1,0,0])\n",
      "# #Check it is positive definite using determinant. The det always is one more than number of rows!!!\n",
      "# det(K)"
     ],
     "language": "python",
     "metadata": {},
     "outputs": []
    },
    {
     "cell_type": "code",
     "collapsed": false,
     "input": [],
     "language": "python",
     "metadata": {},
     "outputs": []
    }
   ],
   "metadata": {}
  }
 ]
}