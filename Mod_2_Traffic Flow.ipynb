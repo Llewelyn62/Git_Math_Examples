{
 "metadata": {
  "name": "",
  "signature": "sha256:c21c87647230144b06b2082e8c29517026b1a247019a68f5127a36e4c067fcae"
 },
 "nbformat": 3,
 "nbformat_minor": 0,
 "worksheets": [
  {
   "cells": [
    {
     "cell_type": "heading",
     "level": 1,
     "metadata": {},
     "source": [
      "Module 2: Traffic Flow Assignment"
     ]
    },
    {
     "cell_type": "code",
     "collapsed": false,
     "input": [
      "#Set up modules\n",
      "from sympy import *\n",
      "from sympy.abc import *\n",
      "import numpy as np\n",
      "from __future__ import division\n",
      "x, t, c = symbols('x t c') #c = cars\n",
      "Vmax, L, rhomax, delta_t, delta_x= symbols('V_max L rho_max Delta_t Delta_x')\n",
      "F, rho = symbols('F rho', cls=Function)\n",
      "init_printing()\n",
      "Vmax, rhomax, delta_t, delta_x"
     ],
     "language": "python",
     "metadata": {},
     "outputs": [
      {
       "latex": [
        "$$\\left ( V_{max}, \\quad \\rho_{max}, \\quad \\Delta_{t}, \\quad \\Delta_{x}\\right )$$"
       ],
       "metadata": {},
       "output_type": "pyout",
       "png": "[encoded data removed]",
       "prompt_number": 21,
       "text": [
        "(V_max, \u03c1_max, \u0394_t, \u0394\u2093)"
       ]
      }
     ],
     "prompt_number": 21
    },
    {
     "cell_type": "code",
     "collapsed": false,
     "input": [
      "#Create equations\n",
      "Fx = Eq(Vmax*rho(x,t)*(1 - rho(x,t)/rhomax))\n",
      "Fx"
     ],
     "language": "python",
     "metadata": {},
     "outputs": [
      {
       "latex": [
        "$$V_{max} \\left(1 - \\frac{1}{\\rho_{max}} \\rho{\\left (x,t \\right )}\\right) \\rho{\\left (x,t \\right )} = 0$$"
       ],
       "metadata": {},
       "output_type": "pyout",
       "png": "[encoded data removed]",
       "prompt_number": 22,
       "text": [
        "      \u239b    \u03c1(x, t)\u239e            \n",
        "V_max\u22c5\u239c1 - \u2500\u2500\u2500\u2500\u2500\u2500\u2500\u239f\u22c5\u03c1(x, t) = 0\n",
        "      \u239d     \u03c1_max \u23a0            "
       ]
      }
     ],
     "prompt_number": 22
    },
    {
     "cell_type": "code",
     "collapsed": false,
     "input": [
      "PDE =Eq(diff(rho(x,t),t)+diff(F(x,t),x))\n",
      "PDE"
     ],
     "language": "python",
     "metadata": {},
     "outputs": [
      {
       "latex": [
        "$$\\frac{\\partial}{\\partial x} F{\\left (x,t \\right )} + \\frac{\\partial}{\\partial t} \\rho{\\left (x,t \\right )} = 0$$"
       ],
       "metadata": {},
       "output_type": "pyout",
       "png": "[encoded data removed]",
       "prompt_number": 25,
       "text": [
        "\u2202             \u2202              \n",
        "\u2500\u2500(F(x, t)) + \u2500\u2500(\u03c1(x, t)) = 0\n",
        "\u2202x            \u2202t             "
       ]
      }
     ],
     "prompt_number": 25
    },
    {
     "cell_type": "code",
     "collapsed": false,
     "input": [
      "pdsolve(PDE, F(x,t))"
     ],
     "language": "python",
     "metadata": {},
     "outputs": [
      {
       "latex": [
        "$$F{\\left (x,t \\right )} = F{\\left (- t \\right )} - \\int^{x} \\left. \\frac{\\partial}{\\partial t} \\rho{\\left (\\xi,t \\right )} \\right|_{\\substack{ t=t }}\\, d\\xi$$"
       ],
       "metadata": {},
       "output_type": "pyout",
       "prompt_number": 28,
       "text": [
        "                  x                     \n",
        "                  \u2320                     \n",
        "                  \u23ae \u239b\u2202          \u239e\u2502      \n",
        "F(x, t) = F(-t) - \u23ae \u239c\u2500\u2500(\u03c1(\u03be, t))\u239f\u2502    d\u03be\n",
        "                  \u23ae \u239d\u2202t         \u23a0\u2502t=t   \n",
        "                  \u2321                     \n",
        "                                        "
       ]
      }
     ],
     "prompt_number": 28
    },
    {
     "cell_type": "code",
     "collapsed": false,
     "input": [
      "latex(pdsolve(PDE, rho(x,t)))"
     ],
     "language": "python",
     "metadata": {},
     "outputs": [
      {
       "metadata": {},
       "output_type": "pyout",
       "prompt_number": 47,
       "text": [
        "'\\\\rho{\\\\left (x,t \\\\right )} = - t \\\\frac{\\\\partial}{\\\\partial x} F{\\\\left (x,t \\\\right )} + F{\\\\left (x \\\\right )}'"
       ]
      }
     ],
     "prompt_number": 47
    },
    {
     "cell_type": "heading",
     "level": 2,
     "metadata": {},
     "source": [
      "Numerical Solution"
     ]
    },
    {
     "cell_type": "code",
     "collapsed": false,
     "input": [
      "import numpy                       \n",
      "import matplotlib.pyplot as plt                 \n",
      "%matplotlib inline\n",
      "from matplotlib import rcParams"
     ],
     "language": "python",
     "metadata": {},
     "outputs": [],
     "prompt_number": 212
    },
    {
     "cell_type": "code",
     "collapsed": false,
     "input": [
      "##Problem parameters\n",
      "nx = 51 #number of spatial grid points.\n",
      "dx = 11./(nx-1) #distance between each pair of grid points.\n",
      "## Change nt manually to t= 0, t = 50 (3min); t=100 (6 min)\n",
      "nt = 50  #number of time steps  1min is broken into steps of 0.06.\n",
      "dt = .001  #time-step in hours.\n",
      "V_max = 136 #maximum car speed in km-1. Changes from 80 in Part A\n",
      "Length = 11 #Length of the stretch of road in km. Sets end boundary.\n",
      "rho_max = 250 #maximum cars per km.\n",
      "\n",
      "##Initial conditions\n",
      "x = numpy.linspace(0,Length,nx)\n",
      "rho0 = numpy.ones(nx)*20 #the minimum density =10 for Part A, 20 Part B. \n",
      "rho0[10:20] = 50\n",
      "rho0[8:12]"
     ],
     "language": "python",
     "metadata": {},
     "outputs": [
      {
       "metadata": {},
       "output_type": "pyout",
       "prompt_number": 222,
       "text": [
        "array([ 20.,  20.,  50.,  50.])"
       ]
      }
     ],
     "prompt_number": 222
    },
    {
     "cell_type": "code",
     "collapsed": false,
     "input": [
      "plt.plot(x,rho0)\n",
      "plt.ylim(0,80)"
     ],
     "language": "python",
     "metadata": {},
     "outputs": [
      {
       "latex": [
        "$$\\left ( 0, \\quad 80\\right )$$"
       ],
       "metadata": {},
       "output_type": "pyout",
       "png": "[encoded data removed]",
       "prompt_number": 223,
       "text": [
        "(0, 80)"
       ]
      },
      {
       "metadata": {},
       "output_type": "display_data",
       "png": "[encoded data removed]",
       "text": [
        "<matplotlib.figure.Figure at 0x90b85b0>"
       ]
      }
     ],
     "prompt_number": 223
    },
    {
     "cell_type": "code",
     "collapsed": false,
     "input": [
      "for n in range(1, nt):  \n",
      "    rhon = rho0.copy() \n",
      "# The code below is the key to this -- \n",
      "    rho0[1:] = rhon[1:]-(V_max- 2.*rhon[1:]*V_max/rho_max)*dt/dx*(rhon[1:]-rhon[0:-1])\n",
      "    rho0[0] = 20.0\n",
      "#Calculate velocity. \n",
      "Velocity = np.empty_like(rho0)\n",
      "Velocity =  V_max*(1-rho0[:]/rho_max)\n",
      "Velocity[0:10]"
     ],
     "language": "python",
     "metadata": {},
     "outputs": [
      {
       "metadata": {},
       "output_type": "pyout",
       "prompt_number": 224,
       "text": [
        "array([ 125.12,  125.12,  125.12,  125.12,  125.12,  125.12,  125.12,\n",
        "        125.12,  125.12,  125.12])"
       ]
      }
     ],
     "prompt_number": 224
    },
    {
     "cell_type": "code",
     "collapsed": false,
     "input": [
      "plt.plot(numpy.linspace(0,11,nx), Velocity, color='#003366', ls='--', lw=3)"
     ],
     "language": "python",
     "metadata": {},
     "outputs": [
      {
       "metadata": {},
       "output_type": "pyout",
       "prompt_number": 225,
       "text": [
        "[<matplotlib.lines.Line2D at 0x93b5f30>]"
       ]
      },
      {
       "metadata": {},
       "output_type": "display_data",
       "png": "[encoded data removed]",
       "text": [
        "<matplotlib.figure.Figure at 0x90c9ab0>"
       ]
      }
     ],
     "prompt_number": 225
    },
    {
     "cell_type": "code",
     "collapsed": false,
     "input": [
      "Vmin = min(Velocity) # This is in kmhr-1\n",
      "Vmin = (Vmin*1000)/(60*60)#Convert to ms-1\n",
      "round(Vmin,2)"
     ],
     "language": "python",
     "metadata": {},
     "outputs": [
      {
       "latex": [
        "$$30.78$$"
       ],
       "metadata": {},
       "output_type": "pyout",
       "png": "[encoded data removed]",
       "prompt_number": 226,
       "text": [
        "30.78"
       ]
      }
     ],
     "prompt_number": 226
    },
    {
     "cell_type": "code",
     "collapsed": false,
     "input": [
      "from IPython.core.display import HTML\n",
      "css_file = '/Users/Llewelyn/Dropbox/Python code/Git_Math_Examples/numericalmoocstyle.css'\n",
      "HTML(open(css_file, \"r\").read())"
     ],
     "language": "python",
     "metadata": {},
     "outputs": [
      {
       "html": [
        "<link href='http://fonts.googleapis.com/css?family=Alegreya+Sans:100,300,400,500,700,800,900,100italic,300italic,400italic,500italic,700italic,800italic,900italic' rel='stylesheet' type='text/css'>\n",
        "<link href='http://fonts.googleapis.com/css?family=Arvo:400,700,400italic' rel='stylesheet' type='text/css'>\n",
        "<link href='http://fonts.googleapis.com/css?family=PT+Mono' rel='stylesheet' type='text/css'>\n",
        "<link href='http://fonts.googleapis.com/css?family=Shadows+Into+Light' rel='stylesheet' type='text/css'>\n",
        "<link href='http://fonts.googleapis.com/css?family=Nixie+One' rel='stylesheet' type='text/css'>\n",
        "<style>\n",
        "\n",
        "@font-face {\n",
        "    font-family: \"Computer Modern\";\n",
        "    src: url('http://mirrors.ctan.org/fonts/cm-unicode/fonts/otf/cmunss.otf');\n",
        "}\n",
        "\n",
        "#notebook_panel { /* main background */\n",
        "    background: rgb(245,245,245);\n",
        "}\n",
        "\n",
        "div.cell { /* set cell width */\n",
        "    width: 750px;\n",
        "}\n",
        "\n",
        "div #notebook { /* centre the content */\n",
        "    background: #fff; /* white background for content */\n",
        "    width: 1000px;\n",
        "    margin: auto;\n",
        "    padding-left: 0em;\n",
        "}\n",
        "\n",
        "#notebook li { /* More space between bullet points */\n",
        "margin-top:0.8em;\n",
        "}\n",
        "\n",
        "/* draw border around running cells */\n",
        "div.cell.border-box-sizing.code_cell.running { \n",
        "    border: 1px solid #111;\n",
        "}\n",
        "\n",
        "/* Put a solid color box around each cell and its output, visually linking them*/\n",
        "div.cell.code_cell {\n",
        "    background-color: rgb(256,256,256); \n",
        "    border-radius: 0px; \n",
        "    padding: 0.5em;\n",
        "    margin-left:1em;\n",
        "    margin-top: 1em;\n",
        "}\n",
        "\n",
        "div.text_cell_render{\n",
        "    font-family: 'Alegreya Sans' sans-serif;\n",
        "    line-height: 140%;\n",
        "    font-size: 125%;\n",
        "    font-weight: 400;\n",
        "    width:600px;\n",
        "    margin-left:auto;\n",
        "    margin-right:auto;\n",
        "}\n",
        "\n",
        "\n",
        "/* Formatting for header cells */\n",
        ".text_cell_render h1 {\n",
        "    font-family: 'Nixie One', serif;\n",
        "    font-style:regular;\n",
        "    font-weight: 400;    \n",
        "    font-size: 45pt;\n",
        "    line-height: 100%;\n",
        "    color: rgb(0,51,102);\n",
        "    margin-bottom: 0.5em;\n",
        "    margin-top: 0.5em;\n",
        "    display: block;\n",
        "}\t\n",
        ".text_cell_render h2 {\n",
        "    font-family: 'Nixie One', serif;\n",
        "    font-weight: 400;\n",
        "    font-size: 30pt;\n",
        "    line-height: 100%;\n",
        "    color: rgb(0,51,102);\n",
        "    margin-bottom: 0.1em;\n",
        "    margin-top: 0.3em;\n",
        "    display: block;\n",
        "}\t\n",
        "\n",
        ".text_cell_render h3 {\n",
        "    font-family: 'Nixie One', serif;\n",
        "    margin-top:16px;\n",
        "\tfont-size: 22pt;\n",
        "    font-weight: 600;\n",
        "    margin-bottom: 3px;\n",
        "    font-style: regular;\n",
        "    color: rgb(102,102,0);\n",
        "}\n",
        "\n",
        ".text_cell_render h4 {    /*Use this for captions*/\n",
        "    font-family: 'Nixie One', serif;\n",
        "    font-size: 14pt;\n",
        "    text-align: center;\n",
        "    margin-top: 0em;\n",
        "    margin-bottom: 2em;\n",
        "    font-style: regular;\n",
        "}\n",
        "\n",
        ".text_cell_render h5 {  /*Use this for small titles*/\n",
        "    font-family: 'Nixie One', sans-serif;\n",
        "    font-weight: 400;\n",
        "    font-size: 16pt;\n",
        "    color: rgb(163,0,0);\n",
        "    font-style: italic;\n",
        "    margin-bottom: .1em;\n",
        "    margin-top: 0.8em;\n",
        "    display: block;\n",
        "}\n",
        "\n",
        ".text_cell_render h6 { /*use this for copyright note*/\n",
        "    font-family: 'PT Mono', sans-serif;\n",
        "    font-weight: 300;\n",
        "    font-size: 9pt;\n",
        "    line-height: 100%;\n",
        "    color: grey;\n",
        "    margin-bottom: 1px;\n",
        "    margin-top: 1px;\n",
        "}\n",
        "\n",
        ".CodeMirror{\n",
        "        font-family: \"PT Mono\";\n",
        "        font-size: 90%;\n",
        "}\n",
        "\n",
        "</style>\n",
        "<script>\n",
        "    MathJax.Hub.Config({\n",
        "                        TeX: {\n",
        "                           extensions: [\"AMSmath.js\"],\n",
        "                           equationNumbers: { autoNumber: \"AMS\", useLabelIds: true}\n",
        "                           },\n",
        "                tex2jax: {\n",
        "                    inlineMath: [ ['$','$'], [\"\\\\(\",\"\\\\)\"] ],\n",
        "                    displayMath: [ ['$$','$$'], [\"\\\\[\",\"\\\\]\"] ]\n",
        "                },\n",
        "                displayAlign: 'center', // Change this to 'center' to center equations.\n",
        "                \"HTML-CSS\": {\n",
        "                    styles: {'.MathJax_Display': {\"margin\": 4}}\n",
        "                }\n",
        "        });\n",
        "</script>\n"
       ],
       "metadata": {},
       "output_type": "pyout",
       "prompt_number": 227,
       "text": [
        "<IPython.core.display.HTML at 0x939abd0>"
       ]
      }
     ],
     "prompt_number": 227
    }
   ],
   "metadata": {}
  }
 ]
}